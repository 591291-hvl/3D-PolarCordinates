{
 "cells": [
  {
   "cell_type": "code",
   "execution_count": 1344,
   "metadata": {},
   "outputs": [],
   "source": [
    "#Imports\n",
    "import PIL.Image as Image\n",
    "import math\n",
    "import cairo\n",
    "import numpy as np"
   ]
  },
  {
   "cell_type": "code",
   "execution_count": 1345,
   "metadata": {},
   "outputs": [],
   "source": [
    "def to_pil(surface: cairo.ImageSurface) -> Image:\n",
    "    format = surface.get_format()\n",
    "    size = (surface.get_width(), surface.get_height())\n",
    "    stride = surface.get_stride()\n",
    "\n",
    "    with surface.get_data() as memory:\n",
    "        if format == cairo.Format.RGB24:\n",
    "            return Image.frombuffer(\n",
    "                \"RGB\", size, memory.tobytes(),\n",
    "                'raw', \"BGRX\", stride)\n",
    "        elif format == cairo.Format.ARGB32:\n",
    "            return Image.frombuffer(\n",
    "                \"RGBA\", size, memory.tobytes(),\n",
    "                'raw', \"BGRa\", stride)\n",
    "        else:\n",
    "            raise NotImplementedError(repr(format))"
   ]
  },
  {
   "cell_type": "code",
   "execution_count": 1346,
   "metadata": {},
   "outputs": [],
   "source": [
    "#canvas\n",
    "WIDTH, HEIGHT = 1000, 1000\n",
    "POINTSIZE = 3\n",
    "surface = cairo.ImageSurface(cairo.FORMAT_ARGB32, WIDTH, HEIGHT)\n",
    "ctx = cairo.Context(surface)\n",
    "ctx.set_line_width(6)"
   ]
  },
  {
   "cell_type": "code",
   "execution_count": 1347,
   "metadata": {},
   "outputs": [],
   "source": [
    "def fillBlack():\n",
    "    ctx.set_source_rgba(0.0, 0.0, 0.0, 1) \n",
    "    ctx.rectangle(0, 0, WIDTH, HEIGHT)\n",
    "    ctx.fill()\n",
    "fillBlack()"
   ]
  },
  {
   "cell_type": "code",
   "execution_count": 1348,
   "metadata": {},
   "outputs": [],
   "source": [
    "def toPolar3D(x,y,z):\n",
    "    r = math.sqrt(x**2 + y**2 + z**2)\n",
    "    theta = 0 if r == 0 else math.acos(z/r)\n",
    "    phi = 0 if x == 0 and y == 0 else (-1 if y < 0 else 1)*math.acos(x/(math.sqrt(x**2 + y**2)))\n",
    "    return r, theta, phi"
   ]
  },
  {
   "cell_type": "code",
   "execution_count": 1349,
   "metadata": {},
   "outputs": [],
   "source": [
    "def toCartesian3D(r, theta, phi):\n",
    "    x = r * math.sin(theta)* math.cos(phi)\n",
    "    y = r * math.sin(theta)* math.sin(phi)\n",
    "    z = r * math.cos(theta)\n",
    "    return x, y, z"
   ]
  },
  {
   "cell_type": "code",
   "execution_count": 1350,
   "metadata": {},
   "outputs": [],
   "source": [
    "def project3dTo2d(x,y,z):\n",
    "    cameraDistance = 500\n",
    "    angleX = math.atan(x/(z + cameraDistance))\n",
    "    newX = cameraDistance*(math.sin(angleX)/(math.cos(angleX)))\n",
    "\n",
    "    angleY = math.atan(y/(z + cameraDistance))\n",
    "    newY = cameraDistance*(math.sin(angleY)/(math.cos(angleY)))\n",
    "    return newX, newY"
   ]
  },
  {
   "cell_type": "code",
   "execution_count": 1351,
   "metadata": {},
   "outputs": [],
   "source": [
    "def project3dTo2dX(x,y,z):\n",
    "    cameraDistance = 1000\n",
    "    angleY = math.atan(y/(x + cameraDistance))\n",
    "    newY = cameraDistance*(math.sin(angleY)/(math.cos(angleY)))\n",
    "\n",
    "    angleZ = math.atan(z/(x + cameraDistance))\n",
    "    newZ = cameraDistance*(math.sin(angleZ)/(math.cos(angleZ)))\n",
    "    return newY, newZ"
   ]
  },
  {
   "cell_type": "code",
   "execution_count": 1352,
   "metadata": {},
   "outputs": [],
   "source": [
    "def buildCube(radius, height):\n",
    "    top0 = toPolar3D(radius, radius,height)\n",
    "    top1 = toPolar3D(-radius, radius,height)\n",
    "    top2 = toPolar3D(radius, -radius,height)\n",
    "    top3 = toPolar3D(-radius, -radius,height)\n",
    "\n",
    "    bot0 = toPolar3D(radius, radius,-height)\n",
    "    bot1 = toPolar3D(-radius, radius,-height)\n",
    "    bot2 = toPolar3D(radius, -radius,-height)\n",
    "    bot3 = toPolar3D(-radius, -radius,-height)\n",
    "\n",
    "    return top0,top1,top2,top3,bot0,bot1,bot2,bot3"
   ]
  },
  {
   "cell_type": "code",
   "execution_count": 1353,
   "metadata": {},
   "outputs": [],
   "source": [
    "def buildFigure(radius, height):\n",
    "    centre0 = toPolar3D(0, 0,height)\n",
    "    centre1 = toPolar3D(0, 0,-height)\n",
    "\n",
    "    top0 = toPolar3D(radius, 0,height)\n",
    "    top1 = toPolar3D(-radius, 0,height)\n",
    "    top2 = toPolar3D(0, radius,height)\n",
    "    top3 = toPolar3D(0, -radius,height)\n",
    "\n",
    "    bot0 = toPolar3D(radius, 0,-height)\n",
    "    bot1 = toPolar3D(-radius, 0,-height)\n",
    "    bot2 = toPolar3D(0, radius,-height)\n",
    "    bot3 = toPolar3D(0, -radius,-height)\n",
    "    return centre0,centre1,top0,top1,top2,top3,bot0,bot1,bot2,bot3"
   ]
  },
  {
   "cell_type": "code",
   "execution_count": 1354,
   "metadata": {},
   "outputs": [],
   "source": [
    "#THIS SECTION TO ADD POINTS\n",
    "\n",
    "#points\n",
    "pointList = []\n",
    "#x, y, z\n",
    "#static\n",
    "point0 = toPolar3D(0,0,0)\n",
    "\n",
    "pointList.append(point0)\n",
    "\n",
    "#FIGURES\n",
    "figPoints0 = []\n",
    "for point in buildFigure(50, 70):\n",
    "    figPoints0.append(point)\n",
    "\n",
    "figPoints1 = []\n",
    "for point in buildFigure(80, 100):\n",
    "    figPoints1.append(point)\n",
    "\n",
    "figPoints2 = []\n",
    "for point in buildFigure(110, 130):\n",
    "    figPoints2.append(point)\n",
    "\n",
    "figPoints3 = []\n",
    "for point in buildFigure(140, 160):\n",
    "    figPoints3.append(point)\n",
    "\n",
    "figPoints4 = []\n",
    "for point in buildFigure(170, 190):\n",
    "    figPoints4.append(point)\n"
   ]
  },
  {
   "cell_type": "code",
   "execution_count": 1355,
   "metadata": {},
   "outputs": [],
   "source": [
    "def movePoint1(point):\n",
    "    return [point[0], point[1]+0.1, point[2]]"
   ]
  },
  {
   "cell_type": "code",
   "execution_count": 1356,
   "metadata": {},
   "outputs": [],
   "source": [
    "def movePoint2(point):\n",
    "    return [point[0], point[1], point[2]+(math.pi/30)]"
   ]
  },
  {
   "cell_type": "code",
   "execution_count": 1357,
   "metadata": {},
   "outputs": [],
   "source": [
    "def drawPoint(point):\n",
    "    x,y,z = toCartesian3D(point[0], point[1], point[2])\n",
    "    x,y = project3dTo2dX(x,y,z)\n",
    "    x = x + WIDTH//2\n",
    "    y = y + HEIGHT//2\n",
    "    ctx.arc(x,y,POINTSIZE,0,math.pi*2)\n",
    "    ctx.fill()"
   ]
  },
  {
   "cell_type": "code",
   "execution_count": 1358,
   "metadata": {},
   "outputs": [],
   "source": [
    "def drawLine(point0, point1):\n",
    "    x0,y0,z0 = toCartesian3D(point0[0], point0[1], point0[2])\n",
    "    x0,y0 = project3dTo2dX(x0,y0,z0)\n",
    "\n",
    "    x1,y1,z1 = toCartesian3D(point1[0], point1[1], point1[2])\n",
    "    x1,y1 = project3dTo2dX(x1,y1,z1)\n",
    "\n",
    "    ctx.move_to(WIDTH//2 +x0,HEIGHT//2 +y0)\n",
    "    ctx.line_to(WIDTH//2 +x1,HEIGHT//2 +y1)\n",
    "    ctx.stroke()"
   ]
  },
  {
   "cell_type": "code",
   "execution_count": 1359,
   "metadata": {},
   "outputs": [],
   "source": [
    "def drawCube(cubePoints):\n",
    "    drawLine(cubePoints[0], cubePoints[1])\n",
    "    drawLine(cubePoints[2], cubePoints[3])\n",
    "    drawLine(cubePoints[4], cubePoints[5])\n",
    "    drawLine(cubePoints[6], cubePoints[7])\n",
    "\n",
    "    drawLine(cubePoints[1], cubePoints[5])\n",
    "    drawLine(cubePoints[0], cubePoints[4])\n",
    "    drawLine(cubePoints[2], cubePoints[6])\n",
    "    drawLine(cubePoints[3], cubePoints[7])\n",
    "\n",
    "    drawLine(cubePoints[0], cubePoints[2])\n",
    "    drawLine(cubePoints[1], cubePoints[3])\n",
    "    drawLine(cubePoints[4], cubePoints[6])\n",
    "    drawLine(cubePoints[5], cubePoints[7])"
   ]
  },
  {
   "cell_type": "code",
   "execution_count": 1360,
   "metadata": {},
   "outputs": [],
   "source": [
    "def drawFig(figPoints):\n",
    "    drawLine(figPoints[0], figPoints[1])\n",
    "\n",
    "    drawLine(figPoints[0], figPoints[2])\n",
    "    drawLine(figPoints[0], figPoints[3])\n",
    "    drawLine(figPoints[0], figPoints[4])\n",
    "    drawLine(figPoints[0], figPoints[5])\n",
    "\n",
    "    drawLine(figPoints[1], figPoints[6])\n",
    "    drawLine(figPoints[1], figPoints[7])\n",
    "    drawLine(figPoints[1], figPoints[8])\n",
    "    drawLine(figPoints[1], figPoints[9])\n",
    "\n",
    "    drawLine(figPoints[2], figPoints[6])\n",
    "    drawLine(figPoints[3], figPoints[7])\n",
    "    drawLine(figPoints[4], figPoints[8])\n",
    "    drawLine(figPoints[5], figPoints[9])"
   ]
  },
  {
   "cell_type": "code",
   "execution_count": 1361,
   "metadata": {},
   "outputs": [],
   "source": [
    "#DrawLoop\n",
    "imageList = []\n",
    "for iterator in range(100):\n",
    "    fillBlack()\n",
    "    ctx.set_source_rgba(1.0, 1.0, 1.0, 1) \n",
    "    \n",
    "    for i in range(len(pointList)):\n",
    "        drawPoint(pointList[i])\n",
    "    \n",
    "    #fig\n",
    "    for i in range(len(figPoints0)):\n",
    "        if iterator >= 0:\n",
    "            if any(not element[2] > math.pi for element in figPoints0[:]):\n",
    "                figPoints0[i] = movePoint2(figPoints0[i])\n",
    "        drawPoint(figPoints0[i])\n",
    "    drawFig(figPoints0)\n",
    "    for i in range(len(figPoints1)):\n",
    "        if iterator >= 3:\n",
    "            if any(not element[2] > math.pi for element in figPoints1[:]):\n",
    "                figPoints1[i] = movePoint2(figPoints1[i])\n",
    "        drawPoint(figPoints1[i])\n",
    "    drawFig(figPoints1)\n",
    "    for i in range(len(figPoints2)):\n",
    "        if iterator >= 6:\n",
    "            if any(not element[2] > math.pi for element in figPoints2[:]):\n",
    "                figPoints2[i] = movePoint2(figPoints2[i])\n",
    "        drawPoint(figPoints2[i])\n",
    "    drawFig(figPoints2)\n",
    "    for i in range(len(figPoints3)):\n",
    "        if iterator >= 9:\n",
    "            if any(not element[2] > math.pi for element in figPoints3[:]):\n",
    "                figPoints3[i] = movePoint2(figPoints3[i])\n",
    "        drawPoint(figPoints3[i])\n",
    "    drawFig(figPoints3)\n",
    "    for i in range(len(figPoints4)):\n",
    "        if iterator >= 12:\n",
    "            if any(not element[2] > math.pi for element in figPoints4[:]):\n",
    "                figPoints4[i] = movePoint2(figPoints4[i])\n",
    "        drawPoint(figPoints4[i])\n",
    "    drawFig(figPoints4)\n",
    "\n",
    "\n",
    "    imageList.append(to_pil(surface))\n"
   ]
  },
  {
   "cell_type": "code",
   "execution_count": 1362,
   "metadata": {},
   "outputs": [],
   "source": [
    "#Save as png\n",
    "surface.write_to_png(\"images/example.png\")"
   ]
  },
  {
   "cell_type": "code",
   "execution_count": 1363,
   "metadata": {},
   "outputs": [],
   "source": [
    "#Save as gif\n",
    "frame_one = imageList[0]\n",
    "frame_one.save(\"images/example.gif\", format=\"GIF\", append_images=imageList,\n",
    "               save_all=True, duration=0, loop=0)"
   ]
  }
 ],
 "metadata": {
  "kernelspec": {
   "display_name": ".venv",
   "language": "python",
   "name": "python3"
  },
  "language_info": {
   "codemirror_mode": {
    "name": "ipython",
    "version": 3
   },
   "file_extension": ".py",
   "mimetype": "text/x-python",
   "name": "python",
   "nbconvert_exporter": "python",
   "pygments_lexer": "ipython3",
   "version": "3.9.6"
  },
  "orig_nbformat": 4
 },
 "nbformat": 4,
 "nbformat_minor": 2
}
